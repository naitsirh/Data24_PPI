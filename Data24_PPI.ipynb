{
  "nbformat": 4,
  "nbformat_minor": 0,
  "metadata": {
    "colab": {
      "provenance": [],
      "toc_visible": true,
      "authorship_tag": "ABX9TyNVL87KMcqltWnRB0JxkA0c"
    },
    "kernelspec": {
      "name": "python3",
      "display_name": "Python 3"
    },
    "language_info": {
      "name": "python"
    }
  },
  "cells": [
    {
      "cell_type": "markdown",
      "source": [
        "<br>\n",
        "\n",
        "# La empresa\n",
        "Presentación de la empresa y contexto.\n",
        "\n"
      ],
      "metadata": {
        "id": "T01X1PLZKmvN"
      }
    },
    {
      "cell_type": "markdown",
      "source": [
        "\n",
        "<br>\n",
        "\n",
        "## Historia de la Empresa:\n",
        "La empresa, DataVista Analytics, fue fundada en 2010 con la visión de transformar la manera en que las organizaciones utilizan los datos para tomar decisiones. Se inició como una pequeña startup enfocada en el análisis de datos financieros, pero rápidamente expandimos nuestras operaciones para cubrir una amplia gama de industrias, incluyendo salud, retail, manufactura y telecomunicaciones.\n",
        "\n",
        "A lo largo de los años, evolucionó para convertirse en líder en la entrega de soluciones de análisis de datos personalizados, ayudando a sus clientes a desbloquear el valor oculto en sus datos. Con un equipo multidisciplinario que abarca desde científicos de datos hasta ingenieros de software y expertos en negocio, DataVista ha crecido hasta tener presencia en múltiples continentes, siempre manteniendo el compromiso con la innovación y la excelencia.\n",
        "\n"
      ],
      "metadata": {
        "id": "CjG6FNfwMfrt"
      }
    },
    {
      "cell_type": "markdown",
      "source": [
        "\n",
        "<br>\n",
        "\n",
        "## Misión, Visión y Valores:\n",
        "**Misión:** Empoderar a las organizaciones con soluciones de análisis de datos que les permitan tomar decisiones informadas, mejorar sus operaciones y maximizar su impacto en el mercado.\n",
        "\n",
        "**Visión:** Ser reconocidos globalmente como el socio estratégico preferido en ciencia de datos, llevando a nuestros clientes a nuevos niveles de éxito a través de la innovación en el análisis y la interpretación de datos.\n",
        "\n",
        "**Valores:**\n",
        "- Innovación: Nos esforzamos por estar a la vanguardia de las tecnologías y metodologías en ciencia de datos.\n",
        "- Integridad: Actuamos con transparencia y ética en todas nuestras interacciones.\n",
        "- Colaboración: Creemos en el poder del trabajo en equipo para lograr soluciones superiores.\n",
        "- Excelencia: Nos comprometemos a entregar resultados de alta calidad que superen las expectativas de nuestros clientes.\n",
        "\n"
      ],
      "metadata": {
        "id": "lQKCyF9Aw0NJ"
      }
    },
    {
      "cell_type": "markdown",
      "source": [
        "\n",
        "<br>\n",
        "\n",
        "## Principales Áreas de Negocio y Proyectos Destacados:\n",
        "DataVista opera en múltiples sectores, con soluciones que incluyen:\n",
        "- **Análisis Predictivo en Salud:** Ayudamos a hospitales y clínicas a predecir brotes de enfermedades y optimizar la gestión de recursos.\n",
        "- **Optimización de la Cadena de Suministro en Retail:** Implementamos modelos de machine learning para mejorar la predicción de demanda y reducir costos operativos.\n",
        "- **Análisis Financiero Avanzado:** Ofrecemos servicios de análisis de riesgo y optimización de carteras para instituciones financieras.\n",
        "\n"
      ],
      "metadata": {
        "id": "iP4GoKpexjt8"
      }
    },
    {
      "cell_type": "markdown",
      "source": [
        "\n",
        "<br>\n",
        "\n",
        "## Rol del Equipo de Ciencia de Datos dentro de la Organización:\n",
        "El equipo de ciencia de datos de DataVista es el motor que impulsa todas las soluciones más innovadoras. Este equipo trabaja en estrecha colaboración con todos los departamentos de la empresa, desde marketing hasta desarrollo de productos, para asegurar que las decisiones se basen en datos sólidos y análisis rigurosos.\n",
        "\n",
        "Nuestros científicos de datos no solo realizan análisis estadísticos avanzados, sino que también son responsables de diseñar y entrenar modelos de machine learning, realizar experimentos de A/B testing, y desarrollar dashboards interactivos que permiten a nuestros clientes visualizar sus datos de manera efectiva. Además, el equipo juega un papel crucial en la consultoría interna y externa, asesorando a otros equipos y a nuestros clientes sobre las mejores prácticas en el manejo y análisis de datos.\n",
        "\n"
      ],
      "metadata": {
        "id": "bd8KMxgrxrJh"
      }
    },
    {
      "cell_type": "markdown",
      "source": [
        "<br>\n",
        "<br>\n",
        "\n",
        "# Ideas de negocio\n",
        "\n"
      ],
      "metadata": {
        "id": "XXstlqpjCxAh"
      }
    },
    {
      "cell_type": "markdown",
      "source": [
        "\n",
        "Contamos con un dataset detallado sobre ventas de autos que ofrece una excelente base para la generación y desarrollo de nuevas ideas de negocio. Este dataset es particularmente relevante para nuestra empresa, especializada en el análisis de datos, y tiene el potencial de revelar valiosos insights y oportunidades en el mercado automotriz.\n",
        "\n",
        "El dataset, recopilado a principios de 2023, incluye varios cientos de registros con información crucial como marca, modelo, tipo de chasis, precio de venta y la moneda en la que se cotiza (pesos o dólares). Esta variedad de datos proporciona una visión integral del mercado, facilitando el análisis y la identificación de tendencias y áreas de oportunidad.\n",
        "\n",
        "A continuación se carga el dataset y se presentan los primeros registros del mismo para poder hacerse una idea de qué se trata:\n",
        "\n"
      ],
      "metadata": {
        "id": "_3K9gay9EwQQ"
      }
    },
    {
      "source": [
        "import pandas as pd"
      ],
      "cell_type": "code",
      "metadata": {
        "collapsed": true,
        "id": "_noLP6sAlDQW"
      },
      "execution_count": null,
      "outputs": []
    },
    {
      "cell_type": "code",
      "source": [
        "df_autos = pd.read_csv('autos_argentina.csv')\n",
        "\n",
        "df_autos.head()"
      ],
      "metadata": {
        "colab": {
          "base_uri": "https://localhost:8080/",
          "height": 278
        },
        "outputId": "034e05f9-9f89-4aa7-999e-453f7aa88fb7",
        "id": "jQMTWEGulUDc"
      },
      "execution_count": null,
      "outputs": [
        {
          "output_type": "execute_result",
          "data": {
            "text/plain": [
              "     Precio    Marca         Modelo   Año        Color Combustible  Puertas  \\\n",
              "0  10350000   Toyota  Corolla Cross  2022     Plateado       Nafta      5.0   \n",
              "1  10850000     Jeep        Compass  2022       Blanco       Nafta      5.0   \n",
              "2     35500     Jeep        Compass  2022  Gris oscuro       Nafta      5.0   \n",
              "3     19000  Citroën      C4 Cactus  2022  Gris oscuro       Nafta      5.0   \n",
              "4   5800000   Toyota        Corolla  2019         Gris       Nafta      4.0   \n",
              "\n",
              "         Caja Motor Carrocería  Kilómetros   Moneda  \n",
              "0  Automática   NaN        SUV         500    pesos  \n",
              "1  Automática   2.4        SUV         500    pesos  \n",
              "2  Automática   2.4        SUV         500  dólares  \n",
              "3  Automática   NaN        SUV         550  dólares  \n",
              "4      Manual   1.8      Sedán        9000    pesos  "
            ],
            "text/html": [
              "\n",
              "  <div id=\"df-700d0878-f341-4c8c-a057-d3c0ed13a5cd\" class=\"colab-df-container\">\n",
              "    <div>\n",
              "<style scoped>\n",
              "    .dataframe tbody tr th:only-of-type {\n",
              "        vertical-align: middle;\n",
              "    }\n",
              "\n",
              "    .dataframe tbody tr th {\n",
              "        vertical-align: top;\n",
              "    }\n",
              "\n",
              "    .dataframe thead th {\n",
              "        text-align: right;\n",
              "    }\n",
              "</style>\n",
              "<table border=\"1\" class=\"dataframe\">\n",
              "  <thead>\n",
              "    <tr style=\"text-align: right;\">\n",
              "      <th></th>\n",
              "      <th>Precio</th>\n",
              "      <th>Marca</th>\n",
              "      <th>Modelo</th>\n",
              "      <th>Año</th>\n",
              "      <th>Color</th>\n",
              "      <th>Combustible</th>\n",
              "      <th>Puertas</th>\n",
              "      <th>Caja</th>\n",
              "      <th>Motor</th>\n",
              "      <th>Carrocería</th>\n",
              "      <th>Kilómetros</th>\n",
              "      <th>Moneda</th>\n",
              "    </tr>\n",
              "  </thead>\n",
              "  <tbody>\n",
              "    <tr>\n",
              "      <th>0</th>\n",
              "      <td>10350000</td>\n",
              "      <td>Toyota</td>\n",
              "      <td>Corolla Cross</td>\n",
              "      <td>2022</td>\n",
              "      <td>Plateado</td>\n",
              "      <td>Nafta</td>\n",
              "      <td>5.0</td>\n",
              "      <td>Automática</td>\n",
              "      <td>NaN</td>\n",
              "      <td>SUV</td>\n",
              "      <td>500</td>\n",
              "      <td>pesos</td>\n",
              "    </tr>\n",
              "    <tr>\n",
              "      <th>1</th>\n",
              "      <td>10850000</td>\n",
              "      <td>Jeep</td>\n",
              "      <td>Compass</td>\n",
              "      <td>2022</td>\n",
              "      <td>Blanco</td>\n",
              "      <td>Nafta</td>\n",
              "      <td>5.0</td>\n",
              "      <td>Automática</td>\n",
              "      <td>2.4</td>\n",
              "      <td>SUV</td>\n",
              "      <td>500</td>\n",
              "      <td>pesos</td>\n",
              "    </tr>\n",
              "    <tr>\n",
              "      <th>2</th>\n",
              "      <td>35500</td>\n",
              "      <td>Jeep</td>\n",
              "      <td>Compass</td>\n",
              "      <td>2022</td>\n",
              "      <td>Gris oscuro</td>\n",
              "      <td>Nafta</td>\n",
              "      <td>5.0</td>\n",
              "      <td>Automática</td>\n",
              "      <td>2.4</td>\n",
              "      <td>SUV</td>\n",
              "      <td>500</td>\n",
              "      <td>dólares</td>\n",
              "    </tr>\n",
              "    <tr>\n",
              "      <th>3</th>\n",
              "      <td>19000</td>\n",
              "      <td>Citroën</td>\n",
              "      <td>C4 Cactus</td>\n",
              "      <td>2022</td>\n",
              "      <td>Gris oscuro</td>\n",
              "      <td>Nafta</td>\n",
              "      <td>5.0</td>\n",
              "      <td>Automática</td>\n",
              "      <td>NaN</td>\n",
              "      <td>SUV</td>\n",
              "      <td>550</td>\n",
              "      <td>dólares</td>\n",
              "    </tr>\n",
              "    <tr>\n",
              "      <th>4</th>\n",
              "      <td>5800000</td>\n",
              "      <td>Toyota</td>\n",
              "      <td>Corolla</td>\n",
              "      <td>2019</td>\n",
              "      <td>Gris</td>\n",
              "      <td>Nafta</td>\n",
              "      <td>4.0</td>\n",
              "      <td>Manual</td>\n",
              "      <td>1.8</td>\n",
              "      <td>Sedán</td>\n",
              "      <td>9000</td>\n",
              "      <td>pesos</td>\n",
              "    </tr>\n",
              "  </tbody>\n",
              "</table>\n",
              "</div>\n",
              "    <div class=\"colab-df-buttons\">\n",
              "\n",
              "  <div class=\"colab-df-container\">\n",
              "    <button class=\"colab-df-convert\" onclick=\"convertToInteractive('df-700d0878-f341-4c8c-a057-d3c0ed13a5cd')\"\n",
              "            title=\"Convert this dataframe to an interactive table.\"\n",
              "            style=\"display:none;\">\n",
              "\n",
              "  <svg xmlns=\"http://www.w3.org/2000/svg\" height=\"24px\" viewBox=\"0 -960 960 960\">\n",
              "    <path d=\"M120-120v-720h720v720H120Zm60-500h600v-160H180v160Zm220 220h160v-160H400v160Zm0 220h160v-160H400v160ZM180-400h160v-160H180v160Zm440 0h160v-160H620v160ZM180-180h160v-160H180v160Zm440 0h160v-160H620v160Z\"/>\n",
              "  </svg>\n",
              "    </button>\n",
              "\n",
              "  <style>\n",
              "    .colab-df-container {\n",
              "      display:flex;\n",
              "      gap: 12px;\n",
              "    }\n",
              "\n",
              "    .colab-df-convert {\n",
              "      background-color: #E8F0FE;\n",
              "      border: none;\n",
              "      border-radius: 50%;\n",
              "      cursor: pointer;\n",
              "      display: none;\n",
              "      fill: #1967D2;\n",
              "      height: 32px;\n",
              "      padding: 0 0 0 0;\n",
              "      width: 32px;\n",
              "    }\n",
              "\n",
              "    .colab-df-convert:hover {\n",
              "      background-color: #E2EBFA;\n",
              "      box-shadow: 0px 1px 2px rgba(60, 64, 67, 0.3), 0px 1px 3px 1px rgba(60, 64, 67, 0.15);\n",
              "      fill: #174EA6;\n",
              "    }\n",
              "\n",
              "    .colab-df-buttons div {\n",
              "      margin-bottom: 4px;\n",
              "    }\n",
              "\n",
              "    [theme=dark] .colab-df-convert {\n",
              "      background-color: #3B4455;\n",
              "      fill: #D2E3FC;\n",
              "    }\n",
              "\n",
              "    [theme=dark] .colab-df-convert:hover {\n",
              "      background-color: #434B5C;\n",
              "      box-shadow: 0px 1px 3px 1px rgba(0, 0, 0, 0.15);\n",
              "      filter: drop-shadow(0px 1px 2px rgba(0, 0, 0, 0.3));\n",
              "      fill: #FFFFFF;\n",
              "    }\n",
              "  </style>\n",
              "\n",
              "    <script>\n",
              "      const buttonEl =\n",
              "        document.querySelector('#df-700d0878-f341-4c8c-a057-d3c0ed13a5cd button.colab-df-convert');\n",
              "      buttonEl.style.display =\n",
              "        google.colab.kernel.accessAllowed ? 'block' : 'none';\n",
              "\n",
              "      async function convertToInteractive(key) {\n",
              "        const element = document.querySelector('#df-700d0878-f341-4c8c-a057-d3c0ed13a5cd');\n",
              "        const dataTable =\n",
              "          await google.colab.kernel.invokeFunction('convertToInteractive',\n",
              "                                                    [key], {});\n",
              "        if (!dataTable) return;\n",
              "\n",
              "        const docLinkHtml = 'Like what you see? Visit the ' +\n",
              "          '<a target=\"_blank\" href=https://colab.research.google.com/notebooks/data_table.ipynb>data table notebook</a>'\n",
              "          + ' to learn more about interactive tables.';\n",
              "        element.innerHTML = '';\n",
              "        dataTable['output_type'] = 'display_data';\n",
              "        await google.colab.output.renderOutput(dataTable, element);\n",
              "        const docLink = document.createElement('div');\n",
              "        docLink.innerHTML = docLinkHtml;\n",
              "        element.appendChild(docLink);\n",
              "      }\n",
              "    </script>\n",
              "  </div>\n",
              "\n",
              "\n",
              "<div id=\"df-30360dbc-2ddd-4969-9b93-31b50cd2371f\">\n",
              "  <button class=\"colab-df-quickchart\" onclick=\"quickchart('df-30360dbc-2ddd-4969-9b93-31b50cd2371f')\"\n",
              "            title=\"Suggest charts\"\n",
              "            style=\"display:none;\">\n",
              "\n",
              "<svg xmlns=\"http://www.w3.org/2000/svg\" height=\"24px\"viewBox=\"0 0 24 24\"\n",
              "     width=\"24px\">\n",
              "    <g>\n",
              "        <path d=\"M19 3H5c-1.1 0-2 .9-2 2v14c0 1.1.9 2 2 2h14c1.1 0 2-.9 2-2V5c0-1.1-.9-2-2-2zM9 17H7v-7h2v7zm4 0h-2V7h2v10zm4 0h-2v-4h2v4z\"/>\n",
              "    </g>\n",
              "</svg>\n",
              "  </button>\n",
              "\n",
              "<style>\n",
              "  .colab-df-quickchart {\n",
              "      --bg-color: #E8F0FE;\n",
              "      --fill-color: #1967D2;\n",
              "      --hover-bg-color: #E2EBFA;\n",
              "      --hover-fill-color: #174EA6;\n",
              "      --disabled-fill-color: #AAA;\n",
              "      --disabled-bg-color: #DDD;\n",
              "  }\n",
              "\n",
              "  [theme=dark] .colab-df-quickchart {\n",
              "      --bg-color: #3B4455;\n",
              "      --fill-color: #D2E3FC;\n",
              "      --hover-bg-color: #434B5C;\n",
              "      --hover-fill-color: #FFFFFF;\n",
              "      --disabled-bg-color: #3B4455;\n",
              "      --disabled-fill-color: #666;\n",
              "  }\n",
              "\n",
              "  .colab-df-quickchart {\n",
              "    background-color: var(--bg-color);\n",
              "    border: none;\n",
              "    border-radius: 50%;\n",
              "    cursor: pointer;\n",
              "    display: none;\n",
              "    fill: var(--fill-color);\n",
              "    height: 32px;\n",
              "    padding: 0;\n",
              "    width: 32px;\n",
              "  }\n",
              "\n",
              "  .colab-df-quickchart:hover {\n",
              "    background-color: var(--hover-bg-color);\n",
              "    box-shadow: 0 1px 2px rgba(60, 64, 67, 0.3), 0 1px 3px 1px rgba(60, 64, 67, 0.15);\n",
              "    fill: var(--button-hover-fill-color);\n",
              "  }\n",
              "\n",
              "  .colab-df-quickchart-complete:disabled,\n",
              "  .colab-df-quickchart-complete:disabled:hover {\n",
              "    background-color: var(--disabled-bg-color);\n",
              "    fill: var(--disabled-fill-color);\n",
              "    box-shadow: none;\n",
              "  }\n",
              "\n",
              "  .colab-df-spinner {\n",
              "    border: 2px solid var(--fill-color);\n",
              "    border-color: transparent;\n",
              "    border-bottom-color: var(--fill-color);\n",
              "    animation:\n",
              "      spin 1s steps(1) infinite;\n",
              "  }\n",
              "\n",
              "  @keyframes spin {\n",
              "    0% {\n",
              "      border-color: transparent;\n",
              "      border-bottom-color: var(--fill-color);\n",
              "      border-left-color: var(--fill-color);\n",
              "    }\n",
              "    20% {\n",
              "      border-color: transparent;\n",
              "      border-left-color: var(--fill-color);\n",
              "      border-top-color: var(--fill-color);\n",
              "    }\n",
              "    30% {\n",
              "      border-color: transparent;\n",
              "      border-left-color: var(--fill-color);\n",
              "      border-top-color: var(--fill-color);\n",
              "      border-right-color: var(--fill-color);\n",
              "    }\n",
              "    40% {\n",
              "      border-color: transparent;\n",
              "      border-right-color: var(--fill-color);\n",
              "      border-top-color: var(--fill-color);\n",
              "    }\n",
              "    60% {\n",
              "      border-color: transparent;\n",
              "      border-right-color: var(--fill-color);\n",
              "    }\n",
              "    80% {\n",
              "      border-color: transparent;\n",
              "      border-right-color: var(--fill-color);\n",
              "      border-bottom-color: var(--fill-color);\n",
              "    }\n",
              "    90% {\n",
              "      border-color: transparent;\n",
              "      border-bottom-color: var(--fill-color);\n",
              "    }\n",
              "  }\n",
              "</style>\n",
              "\n",
              "  <script>\n",
              "    async function quickchart(key) {\n",
              "      const quickchartButtonEl =\n",
              "        document.querySelector('#' + key + ' button');\n",
              "      quickchartButtonEl.disabled = true;  // To prevent multiple clicks.\n",
              "      quickchartButtonEl.classList.add('colab-df-spinner');\n",
              "      try {\n",
              "        const charts = await google.colab.kernel.invokeFunction(\n",
              "            'suggestCharts', [key], {});\n",
              "      } catch (error) {\n",
              "        console.error('Error during call to suggestCharts:', error);\n",
              "      }\n",
              "      quickchartButtonEl.classList.remove('colab-df-spinner');\n",
              "      quickchartButtonEl.classList.add('colab-df-quickchart-complete');\n",
              "    }\n",
              "    (() => {\n",
              "      let quickchartButtonEl =\n",
              "        document.querySelector('#df-30360dbc-2ddd-4969-9b93-31b50cd2371f button');\n",
              "      quickchartButtonEl.style.display =\n",
              "        google.colab.kernel.accessAllowed ? 'block' : 'none';\n",
              "    })();\n",
              "  </script>\n",
              "</div>\n",
              "\n",
              "    </div>\n",
              "  </div>\n"
            ],
            "application/vnd.google.colaboratory.intrinsic+json": {
              "type": "dataframe",
              "variable_name": "df_autos",
              "summary": "{\n  \"name\": \"df_autos\",\n  \"rows\": 510,\n  \"fields\": [\n    {\n      \"column\": \"Precio\",\n      \"properties\": {\n        \"dtype\": \"number\",\n        \"std\": 2918454,\n        \"min\": 8000,\n        \"max\": 14299000,\n        \"num_unique_values\": 343,\n        \"samples\": [\n          77500,\n          2450500,\n          2700500\n        ],\n        \"semantic_type\": \"\",\n        \"description\": \"\"\n      }\n    },\n    {\n      \"column\": \"Marca\",\n      \"properties\": {\n        \"dtype\": \"category\",\n        \"num_unique_values\": 27,\n        \"samples\": [\n          \"Ford\",\n          \"Honda\",\n          \"Chevrolet\"\n        ],\n        \"semantic_type\": \"\",\n        \"description\": \"\"\n      }\n    },\n    {\n      \"column\": \"Modelo\",\n      \"properties\": {\n        \"dtype\": \"category\",\n        \"num_unique_values\": 157,\n        \"samples\": [\n          \"Serie 3\",\n          \"Up!\",\n          \"Swift\"\n        ],\n        \"semantic_type\": \"\",\n        \"description\": \"\"\n      }\n    },\n    {\n      \"column\": \"A\\u00f1o\",\n      \"properties\": {\n        \"dtype\": \"number\",\n        \"std\": 3,\n        \"min\": 1995,\n        \"max\": 2022,\n        \"num_unique_values\": 20,\n        \"samples\": [\n          2022,\n          1997,\n          2000\n        ],\n        \"semantic_type\": \"\",\n        \"description\": \"\"\n      }\n    },\n    {\n      \"column\": \"Color\",\n      \"properties\": {\n        \"dtype\": \"category\",\n        \"num_unique_values\": 14,\n        \"samples\": [\n          \"Dorado\",\n          \"Verde\",\n          \"Plateado\"\n        ],\n        \"semantic_type\": \"\",\n        \"description\": \"\"\n      }\n    },\n    {\n      \"column\": \"Combustible\",\n      \"properties\": {\n        \"dtype\": \"category\",\n        \"num_unique_values\": 4,\n        \"samples\": [\n          \"Di\\u00e9sel\",\n          \"H\\u00edbrido/Nafta\",\n          \"Nafta\"\n        ],\n        \"semantic_type\": \"\",\n        \"description\": \"\"\n      }\n    },\n    {\n      \"column\": \"Puertas\",\n      \"properties\": {\n        \"dtype\": \"number\",\n        \"std\": 0.7615110449710681,\n        \"min\": 2.0,\n        \"max\": 5.0,\n        \"num_unique_values\": 4,\n        \"samples\": [\n          4.0,\n          3.0,\n          5.0\n        ],\n        \"semantic_type\": \"\",\n        \"description\": \"\"\n      }\n    },\n    {\n      \"column\": \"Caja\",\n      \"properties\": {\n        \"dtype\": \"category\",\n        \"num_unique_values\": 2,\n        \"samples\": [\n          \"Manual\",\n          \"Autom\\u00e1tica\"\n        ],\n        \"semantic_type\": \"\",\n        \"description\": \"\"\n      }\n    },\n    {\n      \"column\": \"Motor\",\n      \"properties\": {\n        \"dtype\": \"category\",\n        \"num_unique_values\": 29,\n        \"samples\": [\n          \"5.2\",\n          \"3.6\"\n        ],\n        \"semantic_type\": \"\",\n        \"description\": \"\"\n      }\n    },\n    {\n      \"column\": \"Carrocer\\u00eda\",\n      \"properties\": {\n        \"dtype\": \"category\",\n        \"num_unique_values\": 10,\n        \"samples\": [\n          \"Furg\\u00f3n\",\n          \"Sed\\u00e1n\"\n        ],\n        \"semantic_type\": \"\",\n        \"description\": \"\"\n      }\n    },\n    {\n      \"column\": \"Kil\\u00f3metros\",\n      \"properties\": {\n        \"dtype\": \"number\",\n        \"std\": 46771,\n        \"min\": 500,\n        \"max\": 335000,\n        \"num_unique_values\": 247,\n        \"samples\": [\n          147000,\n          66000\n        ],\n        \"semantic_type\": \"\",\n        \"description\": \"\"\n      }\n    },\n    {\n      \"column\": \"Moneda\",\n      \"properties\": {\n        \"dtype\": \"category\",\n        \"num_unique_values\": 2,\n        \"samples\": [\n          \"d\\u00f3lares\",\n          \"pesos\"\n        ],\n        \"semantic_type\": \"\",\n        \"description\": \"\"\n      }\n    }\n  ]\n}"
            }
          },
          "metadata": {},
          "execution_count": 8
        }
      ]
    },
    {
      "cell_type": "markdown",
      "source": [
        "<br>\n",
        "<br>\n",
        "\n",
        "Considerando a \"DataVista Analytics\" como una empresa especializada en análisis de datos, se identifican las siguientes posibilidades para el desarrollo de negocios:\n",
        "\n"
      ],
      "metadata": {
        "id": "Q97hCJ1ceAc8"
      }
    },
    {
      "cell_type": "markdown",
      "source": [
        "\n",
        "<br>\n",
        "\n",
        "### **1. Informes de mercado personalizados:**\n",
        "- **Idea:** DataVista Analytics podría ofrecer informes a medida para concesionarios, fabricantes o empresas de seguros, basados en el análisis de `df_autos`.\n",
        "- **Ejemplo:** Un informe podría analizar las preferencias de los clientes en cuanto a marcas, modelos o características de seguridad, para ayudar a un concesionario a optimizar su inventario.\n",
        "\n"
      ],
      "metadata": {
        "id": "9D_Oqt0EyPDN"
      }
    },
    {
      "cell_type": "markdown",
      "source": [
        "\n",
        "<br>\n",
        "\n",
        "### **2. Predicción de precios:**\n",
        "- **Idea:** Desarrollar un modelo de Machine Learning que prediga el precio de un automóvil usado basándose en las características presentes en `df_autos`.\n",
        "- **Ejemplo:** Ofrecer este modelo como un servicio a sitios web de compraventa de automóviles o a empresas de tasación.\n",
        "\n"
      ],
      "metadata": {
        "id": "PbmLgI1zyhKg"
      }
    },
    {
      "cell_type": "markdown",
      "source": [
        "\n",
        "<br>\n",
        "\n",
        "### **3. Detección de anomalías:**\n",
        "- **Idea:** Analizar `df_autos` para identificar posibles fraudes o inconsistencias en los datos de los vehículos.\n",
        "- **Ejemplo:** Detectar anuncios de autos con kilometraje sospechosamente bajo o precios inusualmente altos.\n",
        "\n"
      ],
      "metadata": {
        "id": "m1V8p5QPypdD"
      }
    },
    {
      "cell_type": "markdown",
      "source": [
        "\n",
        "<br>\n",
        "\n",
        "### **4. Segmentación de clientes:**\n",
        "- **Idea:** Agrupar a los clientes potenciales en función de sus preferencias de automóviles, utilizando técnicas de clustering en `df_autos`.\n",
        "- **Ejemplo:** Dirigir campañas de marketing personalizadas a cada segmento, ofreciendo vehículos que se ajusten a sus necesidades.\n",
        "\n"
      ],
      "metadata": {
        "id": "dj48waUTytZQ"
      }
    },
    {
      "cell_type": "markdown",
      "source": [
        "<br>\n",
        "<br>\n",
        "\n",
        "# Selección de la idea más prometedora y plan de trabajo\n",
        "\n"
      ],
      "metadata": {
        "id": "fKyavHLyLXXV"
      }
    },
    {
      "cell_type": "markdown",
      "source": [
        "En base a los datos que se dispone, la opción con mejores posibilidades para ser implementada es la primera: **\"Informes de mercado personalizados\"**. Para desarrollar esta idea, podríamos seguir los siguientes pasos:\n",
        "\n"
      ],
      "metadata": {
        "id": "BEZ4jHqKLslD"
      }
    },
    {
      "cell_type": "markdown",
      "source": [
        "\n",
        "### 1. Identificar las necesidades de los clientes potenciales:\n",
        "\n",
        "- ¿Qué tipo de información necesitan los concesionarios, fabricantes o empresas de seguros?\n",
        "- ¿Qué preguntas clave se pueden responder con los datos del dataset?\n",
        "\n"
      ],
      "metadata": {
        "id": "2JSinRh94uFb"
      }
    },
    {
      "cell_type": "markdown",
      "source": [
        "\n",
        "### 2. Definir los tipos de informes a ofrecer:\n",
        "\n",
        "Podríamos ofrecer informes sobre:\n",
        "- Tendencias del mercado (marcas, modelos, precios).\n",
        "- Preferencias de los clientes (características, tipo de vehículo).\n",
        "- Análisis de la competencia.\n",
        "- Oportunidades de mercado.\n",
        "\n"
      ],
      "metadata": {
        "id": "Y1TMJm7N61OM"
      }
    },
    {
      "cell_type": "markdown",
      "source": [
        "\n",
        "### 3. Desarrollar las herramientas de análisis:\n",
        "\n",
        "- Escribir funciones en Python para procesar y analizar los datos de df_autos.\n",
        "- Utilizar librerías como Pandas y Matplotlib para generar visualizaciones (gráficos, tablas).\n",
        "\n"
      ],
      "metadata": {
        "id": "6bUYtDQC7Bv7"
      }
    },
    {
      "cell_type": "markdown",
      "source": [
        "\n",
        "### 4. Crear plantillas de informes:\n",
        "\n",
        "- Diseñar informes con una estructura clara y visualmente atractiva.\n",
        "- Incluir gráficos, tablas y resúmenes de los hallazgos principales.\n",
        "\n"
      ],
      "metadata": {
        "id": "dXLLVSQA7E59"
      }
    },
    {
      "cell_type": "markdown",
      "source": [
        "\n",
        "### 5. Automatizar la generación de informes:\n",
        "\n",
        "- Escribir un script en Python que genere informes a partir de los datos de df_autos y las plantillas.\n",
        "- Permitir la personalización de los informes según las necesidades del cliente.\n",
        "\n"
      ],
      "metadata": {
        "id": "gRUbVHfh7Jew"
      }
    },
    {
      "cell_type": "markdown",
      "source": [
        "\n",
        "Con estas herramientas, DataVista Analytics podría ofrecer un servicio valioso y diferenciador en el mercado automotriz.\n",
        "\n"
      ],
      "metadata": {
        "id": "aWCugcC77NET"
      }
    },
    {
      "cell_type": "markdown",
      "source": [
        "\n",
        "<br>\n",
        "<br>\n",
        "\n",
        "## Beneficios esperados:\n",
        "\n",
        "Los beneficios esperados de implementar \"Informes de mercado personalizados\" para DataVista Analytics serían:\n",
        "\n",
        "- **Aumento de ingresos:** Ofrecer un nuevo servicio genera una nueva fuente de ingresos para la empresa.\n",
        "- **Posicionamiento como experto:** DataVista se consolidaría como un referente en análisis de datos para el sector automotriz.\n",
        "- **Mayor visibilidad:** Atraer nuevos clientes y consolidar la relación con los existentes.\n",
        "- **Ventaja competitiva:** Ofrecer un servicio innovador y de alto valor agregado.\n",
        "- **Expansión a nuevos mercados:** Los informes pueden adaptarse a diferentes necesidades y mercados.\n",
        "- **Mejora de la toma de decisiones:** Tanto para DataVista como para sus clientes.\n",
        "- **Fidelización de clientes:** al ofrecer un servicio personalizado, DataVista podría fidelizar clientes y generar un flujo de ingresos constante.\n",
        "\n"
      ],
      "metadata": {
        "id": "PQccv-vKHT2E"
      }
    },
    {
      "cell_type": "markdown",
      "source": [
        "\n",
        "<br>\n",
        "<br>\n",
        "\n",
        "# Expectativas y Objetivos del Proyecto\n",
        "\n"
      ],
      "metadata": {
        "id": "1M122LJ_ItjI"
      }
    },
    {
      "cell_type": "markdown",
      "source": [
        "\n",
        "### A nivel académico:\n",
        "\n",
        "- **Demostrar la aplicación práctica de conceptos:** un proyecto así permite aplicar los conocimientos de análisis de datos, programación, visualización y machine learning en un caso real.\n",
        "- **Desarrollar habilidades de investigación:** ya que requiere investigar el mercado, las necesidades de los clientes y las mejores prácticas en análisis de datos.\n",
        "- **Fomentar el pensamiento crítico:** ya que exige analizar los datos, interpretar resultados y extraer conclusiones relevantes.\n",
        "- **Mejorar la comunicación:** es muy importante comunicar los hallazgos de forma clara y concisa a través de informes y presentaciones.\n",
        "\n"
      ],
      "metadata": {
        "id": "Tl1a0nmkKeaD"
      }
    },
    {
      "cell_type": "markdown",
      "source": [
        "\n",
        "### A nivel empresarial:\n",
        "\n",
        "- **Propuesta de valor innovadora:** si se implementa correctamente, el proyecto puede convertirse en un servicio real que ofrezca DataVista.\n",
        "- **Diferenciación en el mercado:** permite a DataVista destacarse de la competencia al ofrecer un servicio especializado y de alto valor.\n",
        "- **Potencial de crecimiento:** el mercado automotriz ofrece un amplio abanico de posibilidades para expandir el negocio.\n",
        "- **Generación de ingresos:** los informes personalizados pueden ser una fuente de ingresos recurrente para la empresa."
      ],
      "metadata": {
        "id": "exg7sPTpLY0y"
      }
    },
    {
      "cell_type": "markdown",
      "source": [
        "<br>\n",
        "<br>\n",
        "\n",
        "# Metas individuales\n",
        "\n"
      ],
      "metadata": {
        "id": "nexYDGtTVuyb"
      }
    },
    {
      "cell_type": "markdown",
      "source": [
        "\n",
        "### **Roles y Responsabilidades:**\n",
        "\n"
      ],
      "metadata": {
        "id": "nprp3CPeVzOs"
      }
    },
    {
      "cell_type": "markdown",
      "source": [
        "\n",
        "Por definir.\n",
        "\n"
      ],
      "metadata": {
        "id": "5jTI3RFecsBi"
      }
    },
    {
      "cell_type": "markdown",
      "source": [
        "### **Metas Individuales:**\n",
        "\n"
      ],
      "metadata": {
        "id": "xbcWrNG4WZ14"
      }
    },
    {
      "cell_type": "markdown",
      "source": [
        "\n",
        "##### **Metas individuales de Christian Nüesch**\n",
        "- Buscar la experiencia y dominar herramientas de análisis de datos como Pandas, Matplotlib y otras bibliotecas de Python para el análisis y visualización de datos.\n",
        "- Si el proyecto y el tiempo lo permiten, profundizar en el conocimiento y la aplicación de algoritmos de machine learning para la predicción o clasificación.\n",
        "- Mejorar la capacidad de análisis, interpretación de datos y extracción de conclusiones relevantes para la toma de decisiones.\n",
        "- Incluir este proyecto en un portafolio para demostrar habilidades a futuros empleadores.\n",
        "\n"
      ],
      "metadata": {
        "id": "-cntnWJVYXzb"
      }
    },
    {
      "cell_type": "markdown",
      "source": [
        "\n",
        "### **Plan de Desarrollo Personal:**\n",
        "\n"
      ],
      "metadata": {
        "id": "VP52PsF6Wcz7"
      }
    },
    {
      "cell_type": "markdown",
      "source": [
        "\n",
        "#### **Plan de desarrollo personal de Christian Nüesch**\n",
        "\n",
        "- Ampliar la experiencia en el desarrollo y participación de proyectos tecnológicos: Aprender a construir y ser parte de proyectos que usan tecnología, como apps, páginas web o análisis de datos.\n",
        "- Capacidad de adaptación al cambio y a contextos inciertos o ambiguos: Ser flexible y saber cómo actuar cuando las cosas cambian o no están claras, sin perder la calma.\n",
        "- Buena dinámica de trabajo y organización del tiempo para llegar con todas las entregas de las diferentes materias: Aprender a organizar el tiempo y las tareas para cumplir con las responsabilidades de todas las materias sin estresarse demasiado.\n",
        "\n"
      ],
      "metadata": {
        "id": "0vib2vBoZi4j"
      }
    },
    {
      "cell_type": "markdown",
      "source": [
        "<br>\n",
        "<br>\n",
        "\n",
        "# Plan de Acción\n",
        "\n",
        "Un proyecto como éste debería tener las siguientes fases:\n",
        "\n"
      ],
      "metadata": {
        "id": "6t-pWClkdFBd"
      }
    },
    {
      "cell_type": "markdown",
      "source": [
        "\n",
        "### **1. Planificación:**\n",
        "\n",
        "- Definición del problema: Entender el objetivo del análisis (en este caso, generar informes de mercado).\n",
        "- Definición del alcance: Determinar qué datos se analizarán, qué preguntas se responderán y qué tipo de informes se generarán.\n",
        "- Recopilación de datos: Obtener los datos necesarios (en este caso, ya se tiene df_autos).\n",
        "- Planificación de las tareas: Dividir el proyecto en tareas más pequeñas y asignar responsables y plazos.\n",
        "\n"
      ],
      "metadata": {
        "id": "7h48WaKpfno0"
      }
    },
    {
      "cell_type": "markdown",
      "source": [
        "\n",
        "### **2. Preparación de los datos:**\n",
        "\n",
        "- Limpieza de datos: Identificar y corregir errores, valores faltantes o inconsistencias en el dataset.\n",
        "- Transformación de datos: Adaptar los datos al formato adecuado para el análisis (por ejemplo, convertir variables categóricas).\n",
        "- Exploración de datos: Realizar un análisis exploratorio para comprender las características de los datos (estadísticas descriptivas, visualizaciones).\n",
        "\n"
      ],
      "metadata": {
        "id": "DwTVq-Gvgyhs"
      }
    },
    {
      "cell_type": "markdown",
      "source": [
        "\n",
        "### **3. Análisis de datos:**\n",
        "\n",
        "- Aplicación de técnicas de análisis: Utilizar métodos estadísticos o de machine learning según los objetivos (en este caso, análisis descriptivo, posiblemente predicción o clustering).\n",
        "- Interpretación de resultados: Extraer conclusiones significativas de los datos y responder a las preguntas planteadas.\n",
        "\n"
      ],
      "metadata": {
        "id": "jeq5sghag2XI"
      }
    },
    {
      "cell_type": "markdown",
      "source": [
        "\n",
        "### **4. Comunicación de resultados:**\n",
        "\n",
        "- Creación de informes: Elaborar informes con visualizaciones claras y explicaciones concisas de los hallazgos.\n",
        "- Presentación de resultados: Comunicar los resultados a la audiencia de forma efectiva (en este caso, posiblemente a través de un informe escrito o una presentación).\n",
        "\n"
      ],
      "metadata": {
        "id": "ZtxR1DJtg6T6"
      }
    },
    {
      "cell_type": "markdown",
      "source": [
        "\n",
        "### **5. Implementación (opcional):**\n",
        "\n",
        "- Automatización: Crear scripts o herramientas para automatizar la generación de informes.\n",
        "- Monitorización: Realizar un seguimiento de los resultados y actualizar los informes periódicamente.\n",
        "\n"
      ],
      "metadata": {
        "id": "gdEbIaOhg9EJ"
      }
    },
    {
      "cell_type": "markdown",
      "source": [
        "\n",
        "Hay que tener en cuenta que estas fases pueden variar o solaparse dependiendo del avance y la complejidad del proyecto.\n",
        "\n"
      ],
      "metadata": {
        "id": "R7Gs53UCg_sg"
      }
    }
  ]
}